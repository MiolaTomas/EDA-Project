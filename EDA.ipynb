{
 "cells": [
  {
   "cell_type": "code",
   "execution_count": 1,
   "id": "94c79b0e-75db-420d-bb51-376727b4016f",
   "metadata": {},
   "outputs": [],
   "source": [
    "import pandas as pd\n",
    "import numpy as np\n",
    "import matplotlib.pylab as plt\n",
    "import seaborn as sns"
   ]
  },
  {
   "cell_type": "code",
   "execution_count": 2,
   "id": "79d42fcd-6ca0-4ae0-982f-68a738bffb1e",
   "metadata": {},
   "outputs": [],
   "source": [
    "plt.style.use('ggplot')"
   ]
  },
  {
   "cell_type": "code",
   "execution_count": 48,
   "id": "8105a228-f68a-48f6-8a31-2a4446d548b0",
   "metadata": {},
   "outputs": [
    {
     "data": {
      "text/plain": [
       "Index(['coaster_name', 'Length', 'Speed', 'Location', 'Status', 'Opening date',\n",
       "       'Type', 'Manufacturer', 'Height restriction', 'Model', 'Height',\n",
       "       'Inversions', 'Lift/launch system', 'Cost', 'Trains', 'Park section',\n",
       "       'Duration', 'Capacity', 'G-force', 'Designer', 'Max vertical angle',\n",
       "       'Drop', 'Soft opening date', 'Fast Lane available', 'Replaced',\n",
       "       'Track layout', 'Fastrack available', 'Soft opening date.1',\n",
       "       'Closing date', 'Opened', 'Replaced by', 'Website',\n",
       "       'Flash Pass Available', 'Must transfer from wheelchair', 'Theme',\n",
       "       'Single rider line available', 'Restraint Style',\n",
       "       'Flash Pass available', 'Acceleration', 'Restraints', 'Name',\n",
       "       'year_introduced', 'latitude', 'longitude', 'Type_Main',\n",
       "       'opening_date_clean', 'speed1', 'speed2', 'speed1_value', 'speed1_unit',\n",
       "       'speed_mph', 'height_value', 'height_unit', 'height_ft',\n",
       "       'Inversions_clean', 'Gforce_clean'],\n",
       "      dtype='object')"
      ]
     },
     "execution_count": 48,
     "metadata": {},
     "output_type": "execute_result"
    }
   ],
   "source": [
    "pd.set_option('display.max_columns', 200)\n",
    "#We read the data from csv\n",
    "df = pd.read_csv('coaster.csv')\n",
    "\n",
    "#List out all columns in dataset\n",
    "df.columns"
   ]
  },
  {
   "cell_type": "code",
   "execution_count": 20,
   "id": "9e850a4f-e72f-498d-929d-bc4ef042c889",
   "metadata": {},
   "outputs": [
    {
     "data": {
      "text/plain": [
       "coaster_name                      object\n",
       "Length                            object\n",
       "Speed                             object\n",
       "Location                          object\n",
       "Status                            object\n",
       "Opening date                      object\n",
       "Type                              object\n",
       "Manufacturer                      object\n",
       "Height restriction                object\n",
       "Model                             object\n",
       "Height                            object\n",
       "Inversions                       float64\n",
       "Lift/launch system                object\n",
       "Cost                              object\n",
       "Trains                            object\n",
       "Park section                      object\n",
       "Duration                          object\n",
       "Capacity                          object\n",
       "G-force                           object\n",
       "Designer                          object\n",
       "Max vertical angle                object\n",
       "Drop                              object\n",
       "Soft opening date                 object\n",
       "Fast Lane available               object\n",
       "Replaced                          object\n",
       "Track layout                      object\n",
       "Fastrack available                object\n",
       "Soft opening date.1               object\n",
       "Closing date                      object\n",
       "Opened                            object\n",
       "Replaced by                       object\n",
       "Website                           object\n",
       "Flash Pass Available              object\n",
       "Must transfer from wheelchair     object\n",
       "Theme                             object\n",
       "Single rider line available       object\n",
       "Restraint Style                   object\n",
       "Flash Pass available              object\n",
       "Acceleration                      object\n",
       "Restraints                        object\n",
       "Name                              object\n",
       "year_introduced                    int64\n",
       "latitude                         float64\n",
       "longitude                        float64\n",
       "Type_Main                         object\n",
       "opening_date_clean                object\n",
       "speed1                            object\n",
       "speed2                            object\n",
       "speed1_value                     float64\n",
       "speed1_unit                       object\n",
       "speed_mph                        float64\n",
       "height_value                     float64\n",
       "height_unit                       object\n",
       "height_ft                        float64\n",
       "Inversions_clean                   int64\n",
       "Gforce_clean                     float64\n",
       "dtype: object"
      ]
     },
     "execution_count": 20,
     "metadata": {},
     "output_type": "execute_result"
    }
   ],
   "source": [
    "#List all types of data\n",
    "df.dtypes"
   ]
  },
  {
   "cell_type": "markdown",
   "id": "5f949522-b923-4c31-a9de-8d547cb3ec83",
   "metadata": {},
   "source": [
    "# Data Preparation"
   ]
  },
  {
   "cell_type": "code",
   "execution_count": null,
   "id": "7ba44164-e303-43b2-bb66-430794cd91b8",
   "metadata": {},
   "outputs": [],
   "source": [
    "#Example of how to drop a single column\n",
    "# axis=1 indicates that we are deleting a column not a single row\n",
    "# df.drop('location', axis=1)"
   ]
  },
  {
   "cell_type": "code",
   "execution_count": 54,
   "id": "dae89608-0ef0-4e97-a9ac-edb0e2e74f23",
   "metadata": {},
   "outputs": [],
   "source": [
    "df = df[[ \n",
    "    'coaster_name',\n",
    "    'Location', 'Status', \n",
    "    'Manufacturer', \n",
    "    'year_introduced', 'latitude', 'longitude', 'Type_Main',\n",
    "    'opening_date_clean', \n",
    "    'speed_mph', \n",
    "    'height_ft',\n",
    "    'Inversions_clean', 'Gforce_clean']].copy()"
   ]
  },
  {
   "cell_type": "code",
   "execution_count": 59,
   "id": "3797aecb-037a-4607-b821-ac62d58268de",
   "metadata": {},
   "outputs": [],
   "source": [
    "# convert date from string to date\n",
    "df['opening_date_clean'] = pd.to_datetime(df['opening_date_clean'])"
   ]
  },
  {
   "cell_type": "code",
   "execution_count": 60,
   "id": "f74dd83b-7971-4ad8-97b2-522888dacc4f",
   "metadata": {},
   "outputs": [],
   "source": [
    "#Rename our columns\n",
    "df = df.rename(columns={'coaster_name':'Coaster_Name',\n",
    "                   'year_introduced':'Year_Introduced',\n",
    "                   'opening_date_clean':'Opening_Date',\n",
    "                   'speed_mph':'Speed_mph',\n",
    "                   'height_ft':'Height_ft',\n",
    "                   'Inversions_clean':'Inversions',\n",
    "                   'Gforce_clean':'Gforce'})"
   ]
  },
  {
   "cell_type": "code",
   "execution_count": 65,
   "id": "bab4a84a-9cf0-4e85-ba83-cf1ee8569999",
   "metadata": {},
   "outputs": [
    {
     "data": {
      "text/plain": [
       "Coaster_Name         0\n",
       "Location             0\n",
       "Status             213\n",
       "Manufacturer        59\n",
       "Year_Introduced      0\n",
       "latitude           275\n",
       "longitude          275\n",
       "Type_Main            0\n",
       "Opening_Date       250\n",
       "Speed_mph          150\n",
       "Height_ft          916\n",
       "Inversions           0\n",
       "Gforce             725\n",
       "dtype: int64"
      ]
     },
     "execution_count": 65,
     "metadata": {},
     "output_type": "execute_result"
    }
   ],
   "source": [
    "#Identify if there are any null values\n",
    "df.isna().sum()"
   ]
  },
  {
   "cell_type": "code",
   "execution_count": 71,
   "id": "114a81fb-a5a1-44f4-b468-43cbd623c8a6",
   "metadata": {},
   "outputs": [
    {
     "data": {
      "text/html": [
       "<div>\n",
       "<style scoped>\n",
       "    .dataframe tbody tr th:only-of-type {\n",
       "        vertical-align: middle;\n",
       "    }\n",
       "\n",
       "    .dataframe tbody tr th {\n",
       "        vertical-align: top;\n",
       "    }\n",
       "\n",
       "    .dataframe thead th {\n",
       "        text-align: right;\n",
       "    }\n",
       "</style>\n",
       "<table border=\"1\" class=\"dataframe\">\n",
       "  <thead>\n",
       "    <tr style=\"text-align: right;\">\n",
       "      <th></th>\n",
       "      <th>Coaster_Name</th>\n",
       "      <th>Location</th>\n",
       "      <th>Status</th>\n",
       "      <th>Manufacturer</th>\n",
       "      <th>Year_Introduced</th>\n",
       "      <th>latitude</th>\n",
       "      <th>longitude</th>\n",
       "      <th>Type_Main</th>\n",
       "      <th>Opening_Date</th>\n",
       "      <th>Speed_mph</th>\n",
       "      <th>Height_ft</th>\n",
       "      <th>Inversions</th>\n",
       "      <th>Gforce</th>\n",
       "    </tr>\n",
       "  </thead>\n",
       "  <tbody>\n",
       "  </tbody>\n",
       "</table>\n",
       "</div>"
      ],
      "text/plain": [
       "Empty DataFrame\n",
       "Columns: [Coaster_Name, Location, Status, Manufacturer, Year_Introduced, latitude, longitude, Type_Main, Opening_Date, Speed_mph, Height_ft, Inversions, Gforce]\n",
       "Index: []"
      ]
     },
     "execution_count": 71,
     "metadata": {},
     "output_type": "execute_result"
    }
   ],
   "source": [
    "#Identify duplicated rows\n",
    "df.loc[df.duplicated()]"
   ]
  },
  {
   "cell_type": "code",
   "execution_count": 72,
   "id": "16fa0483-624e-4bf6-9c14-ca3e1afaf8d0",
   "metadata": {},
   "outputs": [
    {
     "data": {
      "text/html": [
       "<div>\n",
       "<style scoped>\n",
       "    .dataframe tbody tr th:only-of-type {\n",
       "        vertical-align: middle;\n",
       "    }\n",
       "\n",
       "    .dataframe tbody tr th {\n",
       "        vertical-align: top;\n",
       "    }\n",
       "\n",
       "    .dataframe thead th {\n",
       "        text-align: right;\n",
       "    }\n",
       "</style>\n",
       "<table border=\"1\" class=\"dataframe\">\n",
       "  <thead>\n",
       "    <tr style=\"text-align: right;\">\n",
       "      <th></th>\n",
       "      <th>Coaster_Name</th>\n",
       "      <th>Location</th>\n",
       "      <th>Status</th>\n",
       "      <th>Manufacturer</th>\n",
       "      <th>Year_Introduced</th>\n",
       "      <th>latitude</th>\n",
       "      <th>longitude</th>\n",
       "      <th>Type_Main</th>\n",
       "      <th>Opening_Date</th>\n",
       "      <th>Speed_mph</th>\n",
       "      <th>Height_ft</th>\n",
       "      <th>Inversions</th>\n",
       "      <th>Gforce</th>\n",
       "    </tr>\n",
       "  </thead>\n",
       "  <tbody>\n",
       "    <tr>\n",
       "      <th>43</th>\n",
       "      <td>Crystal Beach Cyclone</td>\n",
       "      <td>Crystal Beach Park</td>\n",
       "      <td>Removed</td>\n",
       "      <td>Traver Engineering</td>\n",
       "      <td>1927</td>\n",
       "      <td>42.8617</td>\n",
       "      <td>-79.0598</td>\n",
       "      <td>Wood</td>\n",
       "      <td>1926-01-01</td>\n",
       "      <td>60.0</td>\n",
       "      <td>NaN</td>\n",
       "      <td>0</td>\n",
       "      <td>4.0</td>\n",
       "    </tr>\n",
       "    <tr>\n",
       "      <th>60</th>\n",
       "      <td>Derby Racer</td>\n",
       "      <td>Revere Beach</td>\n",
       "      <td>Removed</td>\n",
       "      <td>Fred W. Pearce</td>\n",
       "      <td>1937</td>\n",
       "      <td>42.4200</td>\n",
       "      <td>-70.9860</td>\n",
       "      <td>Wood</td>\n",
       "      <td>1911-01-01</td>\n",
       "      <td>NaN</td>\n",
       "      <td>NaN</td>\n",
       "      <td>0</td>\n",
       "      <td>NaN</td>\n",
       "    </tr>\n",
       "    <tr>\n",
       "      <th>61</th>\n",
       "      <td>Blue Streak (Conneaut Lake)</td>\n",
       "      <td>Conneaut Lake Park</td>\n",
       "      <td>Closed</td>\n",
       "      <td>NaN</td>\n",
       "      <td>1938</td>\n",
       "      <td>41.6349</td>\n",
       "      <td>-80.3180</td>\n",
       "      <td>Wood</td>\n",
       "      <td>1938-05-23</td>\n",
       "      <td>50.0</td>\n",
       "      <td>NaN</td>\n",
       "      <td>0</td>\n",
       "      <td>NaN</td>\n",
       "    </tr>\n",
       "    <tr>\n",
       "      <th>167</th>\n",
       "      <td>Big Thunder Mountain Railroad</td>\n",
       "      <td>Other</td>\n",
       "      <td>NaN</td>\n",
       "      <td>Arrow Development (California and Florida)Dyna...</td>\n",
       "      <td>1980</td>\n",
       "      <td>NaN</td>\n",
       "      <td>NaN</td>\n",
       "      <td>Steel</td>\n",
       "      <td>NaT</td>\n",
       "      <td>35.0</td>\n",
       "      <td>NaN</td>\n",
       "      <td>0</td>\n",
       "      <td>NaN</td>\n",
       "    </tr>\n",
       "    <tr>\n",
       "      <th>237</th>\n",
       "      <td>Thunder Run (Canada's Wonderland)</td>\n",
       "      <td>Canada's Wonderland</td>\n",
       "      <td>Operating</td>\n",
       "      <td>Mack Rides</td>\n",
       "      <td>1986</td>\n",
       "      <td>43.8427</td>\n",
       "      <td>-79.5423</td>\n",
       "      <td>Steel</td>\n",
       "      <td>1981-05-23</td>\n",
       "      <td>39.8</td>\n",
       "      <td>32.8</td>\n",
       "      <td>0</td>\n",
       "      <td>NaN</td>\n",
       "    </tr>\n",
       "  </tbody>\n",
       "</table>\n",
       "</div>"
      ],
      "text/plain": [
       "                          Coaster_Name             Location     Status  \\\n",
       "43               Crystal Beach Cyclone   Crystal Beach Park    Removed   \n",
       "60                         Derby Racer         Revere Beach    Removed   \n",
       "61         Blue Streak (Conneaut Lake)   Conneaut Lake Park     Closed   \n",
       "167      Big Thunder Mountain Railroad                Other        NaN   \n",
       "237  Thunder Run (Canada's Wonderland)  Canada's Wonderland  Operating   \n",
       "\n",
       "                                          Manufacturer  Year_Introduced  \\\n",
       "43                                  Traver Engineering             1927   \n",
       "60                                      Fred W. Pearce             1937   \n",
       "61                                                 NaN             1938   \n",
       "167  Arrow Development (California and Florida)Dyna...             1980   \n",
       "237                                         Mack Rides             1986   \n",
       "\n",
       "     latitude  longitude Type_Main Opening_Date  Speed_mph  Height_ft  \\\n",
       "43    42.8617   -79.0598      Wood   1926-01-01       60.0        NaN   \n",
       "60    42.4200   -70.9860      Wood   1911-01-01        NaN        NaN   \n",
       "61    41.6349   -80.3180      Wood   1938-05-23       50.0        NaN   \n",
       "167       NaN        NaN     Steel          NaT       35.0        NaN   \n",
       "237   43.8427   -79.5423     Steel   1981-05-23       39.8       32.8   \n",
       "\n",
       "     Inversions  Gforce  \n",
       "43            0     4.0  \n",
       "60            0     NaN  \n",
       "61            0     NaN  \n",
       "167           0     NaN  \n",
       "237           0     NaN  "
      ]
     },
     "execution_count": 72,
     "metadata": {},
     "output_type": "execute_result"
    }
   ],
   "source": [
    "# Check for duplicate coaster name\n",
    "df.loc[df.duplicated(subset=['Coaster_Name'])].head(5)"
   ]
  },
  {
   "cell_type": "code",
   "execution_count": 73,
   "id": "34032e3a-ba28-4602-a4e5-e0d0a832c47b",
   "metadata": {
    "jupyter": {
     "source_hidden": true
    }
   },
   "outputs": [
    {
     "data": {
      "text/html": [
       "<div>\n",
       "<style scoped>\n",
       "    .dataframe tbody tr th:only-of-type {\n",
       "        vertical-align: middle;\n",
       "    }\n",
       "\n",
       "    .dataframe tbody tr th {\n",
       "        vertical-align: top;\n",
       "    }\n",
       "\n",
       "    .dataframe thead th {\n",
       "        text-align: right;\n",
       "    }\n",
       "</style>\n",
       "<table border=\"1\" class=\"dataframe\">\n",
       "  <thead>\n",
       "    <tr style=\"text-align: right;\">\n",
       "      <th></th>\n",
       "      <th>Coaster_Name</th>\n",
       "      <th>Location</th>\n",
       "      <th>Status</th>\n",
       "      <th>Manufacturer</th>\n",
       "      <th>Year_Introduced</th>\n",
       "      <th>latitude</th>\n",
       "      <th>longitude</th>\n",
       "      <th>Type_Main</th>\n",
       "      <th>Opening_Date</th>\n",
       "      <th>Speed_mph</th>\n",
       "      <th>Height_ft</th>\n",
       "      <th>Inversions</th>\n",
       "      <th>Gforce</th>\n",
       "    </tr>\n",
       "  </thead>\n",
       "  <tbody>\n",
       "    <tr>\n",
       "      <th>39</th>\n",
       "      <td>Crystal Beach Cyclone</td>\n",
       "      <td>Crystal Beach Park</td>\n",
       "      <td>Removed</td>\n",
       "      <td>Traver Engineering</td>\n",
       "      <td>1926</td>\n",
       "      <td>42.8617</td>\n",
       "      <td>-79.0598</td>\n",
       "      <td>Wood</td>\n",
       "      <td>1926-01-01</td>\n",
       "      <td>60.0</td>\n",
       "      <td>NaN</td>\n",
       "      <td>0</td>\n",
       "      <td>4.0</td>\n",
       "    </tr>\n",
       "    <tr>\n",
       "      <th>43</th>\n",
       "      <td>Crystal Beach Cyclone</td>\n",
       "      <td>Crystal Beach Park</td>\n",
       "      <td>Removed</td>\n",
       "      <td>Traver Engineering</td>\n",
       "      <td>1927</td>\n",
       "      <td>42.8617</td>\n",
       "      <td>-79.0598</td>\n",
       "      <td>Wood</td>\n",
       "      <td>1926-01-01</td>\n",
       "      <td>60.0</td>\n",
       "      <td>NaN</td>\n",
       "      <td>0</td>\n",
       "      <td>4.0</td>\n",
       "    </tr>\n",
       "  </tbody>\n",
       "</table>\n",
       "</div>"
      ],
      "text/plain": [
       "             Coaster_Name            Location   Status        Manufacturer  \\\n",
       "39  Crystal Beach Cyclone  Crystal Beach Park  Removed  Traver Engineering   \n",
       "43  Crystal Beach Cyclone  Crystal Beach Park  Removed  Traver Engineering   \n",
       "\n",
       "    Year_Introduced  latitude  longitude Type_Main Opening_Date  Speed_mph  \\\n",
       "39             1926   42.8617   -79.0598      Wood   1926-01-01       60.0   \n",
       "43             1927   42.8617   -79.0598      Wood   1926-01-01       60.0   \n",
       "\n",
       "    Height_ft  Inversions  Gforce  \n",
       "39        NaN           0     4.0  \n",
       "43        NaN           0     4.0  "
      ]
     },
     "execution_count": 73,
     "metadata": {},
     "output_type": "execute_result"
    }
   ],
   "source": [
    "# Checking an example duplicate\n",
    "df.query('Coaster_Name == \"Crystal Beach Cyclone\"')"
   ]
  },
  {
   "cell_type": "code",
   "execution_count": 76,
   "id": "1454ce57-d383-433f-a302-1b8ab0fc5371",
   "metadata": {},
   "outputs": [],
   "source": [
    "# Delete duplicated\n",
    "df = df.loc[~df.duplicated(subset=['Coaster_Name','Location','Opening_Date'])] \\\n",
    "    .reset_index(drop=True).copy()"
   ]
  },
  {
   "cell_type": "markdown",
   "id": "253316ef-5643-42ec-8c94-3e31493f720c",
   "metadata": {},
   "source": [
    "# Feature Understanding"
   ]
  },
  {
   "cell_type": "code",
   "execution_count": 87,
   "id": "9666283d-07a5-448f-ac59-65a9bd94d381",
   "metadata": {
    "scrolled": true
   },
   "outputs": [
    {
     "data": {
      "text/plain": [
       "Text(0, 0.5, 'Count')"
      ]
     },
     "execution_count": 87,
     "metadata": {},
     "output_type": "execute_result"
    },
    {
     "data": {
      "image/png": "[encoded data removed]",
      "text/plain": [
       "<Figure size 640x480 with 1 Axes>"
      ]
     },
     "metadata": {},
     "output_type": "display_data"
    }
   ],
   "source": [
    "#Univariate analysis\n",
    "#How many rollercoasters were introduce each year \n",
    "ax = df['Year_Introduced'].value_counts().head(10).plot(kind='bar', title='Top 10 years coasters introduced')\n",
    "ax.set_xlabel('Year Introduced')\n",
    "ax.set_ylabel('Count')"
   ]
  },
  {
   "cell_type": "code",
   "execution_count": 88,
   "id": "d3398bbf-6a61-47f2-b0be-c1b3f64c30f3",
   "metadata": {},
   "outputs": [
    {
     "data": {
      "text/plain": [
       "Text(0.5, 0, 'Speed (mph)')"
      ]
     },
     "execution_count": 88,
     "metadata": {},
     "output_type": "execute_result"
    },
    {
     "data": {
      "image/png": "[encoded data removed]",
      "text/plain": [
       "<Figure size 640x480 with 1 Axes>"
      ]
     },
     "metadata": {},
     "output_type": "display_data"
    }
   ],
   "source": [
    "ax = df['Speed_mph'].plot(kind='hist',\n",
    "                          bins=20,\n",
    "                          title='Coaster Speed (mph)')\n",
    "ax.set_xlabel('Speed (mph)')"
   ]
  },
  {
   "cell_type": "code",
   "execution_count": 89,
   "id": "6cab1751-38b0-457d-9392-489626877454",
   "metadata": {},
   "outputs": [
    {
     "data": {
      "text/plain": [
       "Text(0.5, 0, 'Speed (mph)')"
      ]
     },
     "execution_count": 89,
     "metadata": {},
     "output_type": "execute_result"
    },
    {
     "data": {
      "image/png": "[encoded data removed]",
      "text/plain": [
       "<Figure size 640x480 with 1 Axes>"
      ]
     },
     "metadata": {},
     "output_type": "display_data"
    }
   ],
   "source": [
    "ax = df['Speed_mph'].plot(kind='kde',\n",
    "                          title='Coaster Speed (mph)')\n",
    "ax.set_xlabel('Speed (mph)')"
   ]
  }
 ],
 "metadata": {
  "kernelspec": {
   "display_name": "Python 3 (ipykernel)",
   "language": "python",
   "name": "python3"
  },
  "language_info": {
   "codemirror_mode": {
    "name": "ipython",
    "version": 3
   },
   "file_extension": ".py",
   "mimetype": "text/x-python",
   "name": "python",
   "nbconvert_exporter": "python",
   "pygments_lexer": "ipython3",
   "version": "3.13.0"
  }
 },
 "nbformat": 4,
 "nbformat_minor": 5
}
